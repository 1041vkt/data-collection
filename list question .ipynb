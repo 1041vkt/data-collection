{
 "cells": [
  {
   "cell_type": "markdown",
   "id": "96869ecd",
   "metadata": {},
   "source": [
    "<!-- # Python program to swap two elements in a list\n",
    "# Maximum of two numbers in Python\n",
    "# Minimum of two numbers in Python\n",
    "# Python | Reversing a List\n",
    "# Python | Sum of number digits in List\n",
    "# Python | Multiply all numbers in the list\n",
    "# Python program to find second largest number in a list\n",
    "# Python program to count Even and Odd numbers in a List\n",
    "# Python program to print positive numbers in a list\n",
    "# Python program to print negative numbers in a list -->\n",
    "\n"
   ]
  },
  {
   "cell_type": "markdown",
   "id": "5d584c83",
   "metadata": {},
   "source": [
    "<!-- # 1.Write a Python program to create a tuple.\n",
    "\n",
    "# 2.Write a Python program to create a tuple with \n",
    "# different data types.\n",
    "\n",
    "# 3.Write a Python program to create a tuple with \n",
    "# numbers and print one item.\n",
    "\n",
    "# 4.Write a Python program to add an item in a tuple.\n",
    "\n",
    "# 5.Write a Python program to convert a tuple to a string.\n",
    "\n",
    "# 6.Write a Python program to convert a list to a tuple.\n",
    "\n",
    "# 7.Write a Python program to remove an item from a tuple.\n",
    "\n",
    "# 8.Write a Python program to find the index of an \n",
    "# item of a tuple.\n",
    "\n",
    "# 9.Write a Python program to reverse a tuple.\n",
    "\n",
    "# 10.Write a Python program calculate the product, \n",
    "# multiplying all the numbers of a given tuple. \n",
    "# Original Tuple:\n",
    "# (4, 3, 2, 2, -1, 18)\n",
    "\n",
    "# 11.Python – Adding Tuple to List and vice – versa.\n",
    "\n",
    "# 12.Python program to find tuples which have \n",
    "# all elements divisible by K from a list of tuples.\n",
    "\n",
    "# 13.Python – Removing duplicates from tuple. -->"
   ]
  },
  {
   "cell_type": "code",
   "execution_count": null,
   "id": "c63cfa6a",
   "metadata": {},
   "outputs": [],
   "source": []
  },
  {
   "cell_type": "code",
   "execution_count": null,
   "id": "0fc32469",
   "metadata": {},
   "outputs": [],
   "source": []
  },
  {
   "cell_type": "code",
   "execution_count": null,
   "id": "f774f495",
   "metadata": {},
   "outputs": [],
   "source": []
  },
  {
   "cell_type": "code",
   "execution_count": null,
   "id": "5f59c861",
   "metadata": {},
   "outputs": [],
   "source": []
  },
  {
   "cell_type": "code",
   "execution_count": null,
   "id": "e23e4f93",
   "metadata": {},
   "outputs": [],
   "source": []
  },
  {
   "cell_type": "code",
   "execution_count": null,
   "id": "9aa4c87c",
   "metadata": {},
   "outputs": [],
   "source": []
  }
 ],
 "metadata": {
  "kernelspec": {
   "display_name": "Python 3 (ipykernel)",
   "language": "python",
   "name": "python3"
  },
  "language_info": {
   "codemirror_mode": {
    "name": "ipython",
    "version": 3
   },
   "file_extension": ".py",
   "mimetype": "text/x-python",
   "name": "python",
   "nbconvert_exporter": "python",
   "pygments_lexer": "ipython3",
   "version": "3.9.7"
  }
 },
 "nbformat": 4,
 "nbformat_minor": 5
}

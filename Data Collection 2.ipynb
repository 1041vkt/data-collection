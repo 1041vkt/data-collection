{
 "cells": [
  {
   "cell_type": "code",
   "execution_count": 1,
   "id": "417c2835",
   "metadata": {},
   "outputs": [
    {
     "data": {
      "text/plain": [
       "[1, 4, 9, 3]"
      ]
     },
     "execution_count": 1,
     "metadata": {},
     "output_type": "execute_result"
    }
   ],
   "source": [
    "# data collectio is 4 types.........>\n",
    "# list\n",
    "# tuple\n",
    "# dict\n",
    "# set\n",
    "a = [1,4,9,3]\n",
    "a"
   ]
  },
  {
   "cell_type": "code",
   "execution_count": 2,
   "id": "57b5eb4f",
   "metadata": {
    "scrolled": true
   },
   "outputs": [
    {
     "data": {
      "text/plain": [
       "[67, 45, 90, 'hello', 89, 34, 'boy']"
      ]
     },
     "execution_count": 2,
     "metadata": {},
     "output_type": "execute_result"
    }
   ],
   "source": [
    "a = [67,45,90,'hello',89,34,'boy']\n",
    "a\n"
   ]
  },
  {
   "cell_type": "code",
   "execution_count": 7,
   "id": "a5270fd7",
   "metadata": {},
   "outputs": [
    {
     "data": {
      "text/plain": [
       "[90, 'hello', 89, 34]"
      ]
     },
     "execution_count": 7,
     "metadata": {},
     "output_type": "execute_result"
    }
   ],
   "source": [
    "a[2:6]"
   ]
  },
  {
   "cell_type": "code",
   "execution_count": 9,
   "id": "a43eae85",
   "metadata": {},
   "outputs": [
    {
     "data": {
      "text/plain": [
       "[90, 89, 'boy']"
      ]
     },
     "execution_count": 9,
     "metadata": {},
     "output_type": "execute_result"
    }
   ],
   "source": [
    "a[2:7:2]"
   ]
  },
  {
   "cell_type": "code",
   "execution_count": 12,
   "id": "ea66eda7",
   "metadata": {},
   "outputs": [
    {
     "data": {
      "text/plain": [
       "[90, 'hello', 89, 34, 'boy']"
      ]
     },
     "execution_count": 12,
     "metadata": {},
     "output_type": "execute_result"
    }
   ],
   "source": [
    "a[2:7]"
   ]
  },
  {
   "cell_type": "code",
   "execution_count": 14,
   "id": "03ab31ab",
   "metadata": {},
   "outputs": [
    {
     "data": {
      "text/plain": [
       "[90, 'hello', 89, 34, 'boy']"
      ]
     },
     "execution_count": 14,
     "metadata": {},
     "output_type": "execute_result"
    }
   ],
   "source": [
    "a[2:]"
   ]
  },
  {
   "cell_type": "code",
   "execution_count": 17,
   "id": "74d88868",
   "metadata": {},
   "outputs": [
    {
     "data": {
      "text/plain": [
       "[67, 45, 90, 'hello', 89]"
      ]
     },
     "execution_count": 17,
     "metadata": {},
     "output_type": "execute_result"
    }
   ],
   "source": [
    "a[:5]"
   ]
  },
  {
   "cell_type": "code",
   "execution_count": 18,
   "id": "b2ff604a",
   "metadata": {},
   "outputs": [
    {
     "data": {
      "text/plain": [
       "[67, 45, 90, 'hello', 89, 34, 'boy']"
      ]
     },
     "execution_count": 18,
     "metadata": {},
     "output_type": "execute_result"
    }
   ],
   "source": [
    "a[0:7]"
   ]
  },
  {
   "cell_type": "code",
   "execution_count": 20,
   "id": "57228c8b",
   "metadata": {},
   "outputs": [
    {
     "data": {
      "text/plain": [
       "[67, 45, 90, 'hello', 89, 34, 'boy']"
      ]
     },
     "execution_count": 20,
     "metadata": {},
     "output_type": "execute_result"
    }
   ],
   "source": [
    "a[0:]"
   ]
  },
  {
   "cell_type": "code",
   "execution_count": 19,
   "id": "66240a5f",
   "metadata": {},
   "outputs": [
    {
     "data": {
      "text/plain": [
       "[67, 45, 90, 'hello', 89, 34, 'boy']"
      ]
     },
     "execution_count": 19,
     "metadata": {},
     "output_type": "execute_result"
    }
   ],
   "source": [
    "a[:]"
   ]
  },
  {
   "cell_type": "code",
   "execution_count": 21,
   "id": "e92f5fc3",
   "metadata": {},
   "outputs": [
    {
     "data": {
      "text/plain": [
       "[67, 45, 90, 'hello', 89, 34, 'boy']"
      ]
     },
     "execution_count": 21,
     "metadata": {},
     "output_type": "execute_result"
    }
   ],
   "source": [
    "a"
   ]
  },
  {
   "cell_type": "code",
   "execution_count": 24,
   "id": "09d54f00",
   "metadata": {},
   "outputs": [],
   "source": [
    "a[3] = 'bye'"
   ]
  },
  {
   "cell_type": "code",
   "execution_count": 25,
   "id": "d6ddc85e",
   "metadata": {},
   "outputs": [
    {
     "data": {
      "text/plain": [
       "[67, 45, 90, 'bye', 89, 34, 'boy']"
      ]
     },
     "execution_count": 25,
     "metadata": {},
     "output_type": "execute_result"
    }
   ],
   "source": [
    "a"
   ]
  },
  {
   "cell_type": "code",
   "execution_count": 43,
   "id": "91e3ff88",
   "metadata": {},
   "outputs": [
    {
     "name": "stdout",
     "output_type": "stream",
     "text": [
      "21\n"
     ]
    }
   ],
   "source": [
    "# list--------->mutable------>changing data anytime\n",
    "# index------>position.\n",
    "# oredered way output.\n",
    "# wap to add the number present in the list.\n",
    "\n",
    "\n",
    "a = [2,7,8,4]\n",
    "s = 0\n",
    "for i in  a  :\n",
    "    s = s+i\n",
    "print(s)\n",
    "    \n",
    "   \n",
    "    \n",
    "\n"
   ]
  },
  {
   "cell_type": "code",
   "execution_count": 44,
   "id": "39601be9",
   "metadata": {},
   "outputs": [
    {
     "name": "stdout",
     "output_type": "stream",
     "text": [
      "432\n"
     ]
    }
   ],
   "source": [
    "# wap to find greatest number in the list.\n",
    " \n",
    "x = [45,90,6,34,99,23,12,7,34,82]\n",
    "sum = 0\n",
    "for i in x:\n",
    "    sum = sum +i\n",
    "print(sum)"
   ]
  },
  {
   "cell_type": "code",
   "execution_count": 45,
   "id": "e62373d5",
   "metadata": {},
   "outputs": [
    {
     "name": "stdout",
     "output_type": "stream",
     "text": [
      "99\n"
     ]
    }
   ],
   "source": [
    "# wap to find greatest number in the list.\n",
    " \n",
    "x = [45,90,6,34,99,23,12,7,34,82]\n",
    "max = x[0]\n",
    "for i in x:\n",
    "    if(i>max):\n",
    "        max = i\n",
    "print(max)        \n",
    "        \n",
    "    "
   ]
  },
  {
   "cell_type": "code",
   "execution_count": null,
   "id": "29167e7c",
   "metadata": {},
   "outputs": [],
   "source": [
    "# wap to find greatest number in the list.\n",
    " \n",
    "x = [45,90,6,34,99,23,12,7,34,82]"
   ]
  },
  {
   "cell_type": "code",
   "execution_count": 47,
   "id": "73e5a1c4",
   "metadata": {},
   "outputs": [
    {
     "name": "stdout",
     "output_type": "stream",
     "text": [
      "odd number 45\n",
      "even number 90\n",
      "even number 6\n",
      "even number 34\n",
      "odd number 99\n",
      "odd number 23\n",
      "even number 12\n",
      "odd number 7\n",
      "even number 34\n",
      "even number 82\n"
     ]
    }
   ],
   "source": [
    "# odd & even number.....>\n",
    "x = [45,90,6,34,99,23,12,7,34,82]\n",
    "\n",
    "for i in x:\n",
    "    if(i%2==0):\n",
    "        print(\"even number\",i)\n",
    "    else:\n",
    "        print(\"odd number\",i)"
   ]
  },
  {
   "cell_type": "code",
   "execution_count": 26,
   "id": "c5c5f502",
   "metadata": {},
   "outputs": [
    {
     "name": "stdout",
     "output_type": "stream",
     "text": [
      "Enter the present data in list : 'ola'\n",
      "yes present\n"
     ]
    }
   ],
   "source": [
    "# wap to find the particular data is present in the list or not?\n",
    "x = ['python','java','sql','powerbi']\n",
    "a = 0\n",
    "\n",
    "input(\"Enter the present data in list : \")\n",
    "for i in x:\n",
    "    if (i == x[0]):\n",
    "        x = a\n",
    "        print(\"yes present\")\n",
    "        break;\n",
    "    else:\n",
    "        print(\"not present\")\n",
    "    "
   ]
  },
  {
   "cell_type": "code",
   "execution_count": null,
   "id": "294a0fcc",
   "metadata": {},
   "outputs": [],
   "source": [
    "\n",
    "   \n",
    "    "
   ]
  },
  {
   "cell_type": "code",
   "execution_count": null,
   "id": "fbfba6a1",
   "metadata": {},
   "outputs": [],
   "source": []
  }
 ],
 "metadata": {
  "kernelspec": {
   "display_name": "Python 3 (ipykernel)",
   "language": "python",
   "name": "python3"
  },
  "language_info": {
   "codemirror_mode": {
    "name": "ipython",
    "version": 3
   },
   "file_extension": ".py",
   "mimetype": "text/x-python",
   "name": "python",
   "nbconvert_exporter": "python",
   "pygments_lexer": "ipython3",
   "version": "3.9.7"
  }
 },
 "nbformat": 4,
 "nbformat_minor": 5
}

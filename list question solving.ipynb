{
 "cells": [
  {
   "cell_type": "code",
   "execution_count": 5,
   "id": "c163e806",
   "metadata": {},
   "outputs": [
    {
     "name": "stdout",
     "output_type": "stream",
     "text": [
      "[7, 56, 56, 33, 33, 56, 7]\n"
     ]
    }
   ],
   "source": [
    "# Python program to swap two elements in a list.\n",
    "    \n",
    "a = [34,56,8,90,33,56,7]\n",
    "a[0],a[1],a[2],a[3] = a[6],a[5],a[1],a[4]\n",
    "print(a)"
   ]
  },
  {
   "cell_type": "code",
   "execution_count": 18,
   "id": "df44b98c",
   "metadata": {},
   "outputs": [
    {
     "name": "stdout",
     "output_type": "stream",
     "text": [
      "98\n",
      "56\n"
     ]
    }
   ],
   "source": [
    "# Maximum of two numbers in Python.\n",
    "\n",
    "x = [23,45,67,90,56,98,56]\n",
    "max1 =x[3]\n",
    "max2 =x[0]\n",
    "for i in x:\n",
    "    if(i>max1):\n",
    "        max1 = i\n",
    "if(i>max2):\n",
    "    max2 = i\n",
    "print(max1)\n",
    "print(max2)\n",
    "\n",
    "        "
   ]
  },
  {
   "cell_type": "code",
   "execution_count": 20,
   "id": "da72b204",
   "metadata": {},
   "outputs": [
    {
     "data": {
      "text/plain": [
       "2"
      ]
     },
     "execution_count": 20,
     "metadata": {},
     "output_type": "execute_result"
    }
   ],
   "source": [
    "# Minimum of two numbers in Python -->\n",
    "\n",
    "x = [2,5]\n",
    "min = x[0]\n",
    "for i in x:\n",
    "    if (i<min):\n",
    "        min = i\n",
    "min        \n",
    "        "
   ]
  },
  {
   "cell_type": "code",
   "execution_count": 23,
   "id": "f3258d47",
   "metadata": {},
   "outputs": [
    {
     "name": "stdout",
     "output_type": "stream",
     "text": [
      "[]\n"
     ]
    }
   ],
   "source": [
    "# Python | Reversing a List.\n",
    "\n",
    "x = [34,56,34,98,90,57]\n",
    "x[0:5:-1]\n",
    "\n",
    "    "
   ]
  },
  {
   "cell_type": "code",
   "execution_count": 24,
   "id": "1873baa3",
   "metadata": {},
   "outputs": [
    {
     "name": "stdout",
     "output_type": "stream",
     "text": [
      "436\n"
     ]
    }
   ],
   "source": [
    "# Python | Sum of number digits in List.\n",
    "\n",
    "a = [23,90,78,65,90,34,56]\n",
    "sum = 0\n",
    "for i in a:\n",
    "    sum = sum + i\n",
    "print(sum)    "
   ]
  },
  {
   "cell_type": "code",
   "execution_count": 25,
   "id": "15c0445a",
   "metadata": {},
   "outputs": [
    {
     "name": "stdout",
     "output_type": "stream",
     "text": [
      "25832520\n"
     ]
    }
   ],
   "source": [
    "# Python | Multiply all numbers in the list.\n",
    "\n",
    "x = [45,67,12,21,34]\n",
    "mul = 1\n",
    "for i in x:\n",
    "    mul = mul * i\n",
    "print(mul)    "
   ]
  },
  {
   "cell_type": "code",
   "execution_count": 31,
   "id": "2a3cdc20",
   "metadata": {},
   "outputs": [
    {
     "name": "stdout",
     "output_type": "stream",
     "text": [
      "56\n"
     ]
    }
   ],
   "source": [
    "# Python program to find second largest number in a list.\n",
    "\n",
    "x = [1,3,2,90,56,34]\n",
    "max1 = x[0]\n",
    "for i in x:\n",
    "    if (i>max1):\n",
    "        max1 = i\n",
    "max1 \n",
    "x.remove(max1)\n",
    "max1 = x[0]\n",
    "for i in x:\n",
    "    if (i>max1):\n",
    "        max1 = i\n",
    "print(max1)"
   ]
  },
  {
   "cell_type": "code",
   "execution_count": 35,
   "id": "bd0a6b63",
   "metadata": {},
   "outputs": [
    {
     "name": "stdout",
     "output_type": "stream",
     "text": [
      "even number 34\n",
      "even number 2\n",
      "odd number 43\n",
      "odd number 45\n",
      "odd number 67\n",
      "even number 90\n",
      "even number 80\n",
      "odd number 31\n"
     ]
    }
   ],
   "source": [
    "# Python program to count Even and Odd numbers in a List.\n",
    "\n",
    "x = [34,2,43,45,67,90,80,31]\n",
    "for i in x:\n",
    "    if (i%2 == 0):\n",
    "        print('even number',i)\n",
    "    else:\n",
    "        print('odd number',i)"
   ]
  },
  {
   "cell_type": "code",
   "execution_count": 38,
   "id": "c735eb0d",
   "metadata": {},
   "outputs": [
    {
     "name": "stdout",
     "output_type": "stream",
     "text": [
      "positive number 34\n",
      "positive number 2\n",
      "positive number 4\n",
      "positive number 5\n"
     ]
    }
   ],
   "source": [
    "# Python program to print positive numbers in a list.\n",
    "\n",
    "a = [34,2,4,5,-5,-3,-2]\n",
    "for i in a:\n",
    "    if (i>0):\n",
    "        print('positive number',i)"
   ]
  },
  {
   "cell_type": "code",
   "execution_count": 39,
   "id": "bfcc5475",
   "metadata": {},
   "outputs": [
    {
     "name": "stdout",
     "output_type": "stream",
     "text": [
      "negative number  -21\n",
      "negative number  -87\n",
      "negative number  -34\n"
     ]
    }
   ],
   "source": [
    "# Python program to print negative numbers in a list -->\n",
    "\n",
    "x = [65,90,-21,-87,-34,56,78]\n",
    "for i in x:\n",
    "    if (i<0):\n",
    "        print('negative number ',i)"
   ]
  },
  {
   "cell_type": "code",
   "execution_count": null,
   "id": "81daa7e8",
   "metadata": {},
   "outputs": [],
   "source": []
  }
 ],
 "metadata": {
  "kernelspec": {
   "display_name": "Python 3 (ipykernel)",
   "language": "python",
   "name": "python3"
  },
  "language_info": {
   "codemirror_mode": {
    "name": "ipython",
    "version": 3
   },
   "file_extension": ".py",
   "mimetype": "text/x-python",
   "name": "python",
   "nbconvert_exporter": "python",
   "pygments_lexer": "ipython3",
   "version": "3.9.7"
  }
 },
 "nbformat": 4,
 "nbformat_minor": 5
}

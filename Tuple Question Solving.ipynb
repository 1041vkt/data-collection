{
 "cells": [
  {
   "cell_type": "code",
   "execution_count": null,
   "id": "3ac0cb0f",
   "metadata": {},
   "outputs": [],
   "source": [
    "# 1.Write a Python program to create a tuple.\n",
    "\n",
    "# 2.Write a Python program to create a tuple with \n",
    "# different data types.\n",
    "\n",
    "# 3.Write a Python program to create a tuple with \n",
    "# numbers and print one item.\n",
    "\n",
    "# 4.Write a Python program to add an item in a tuple.\n",
    "\n",
    "# 5.Write a Python program to convert a tuple to a string.\n",
    "\n",
    "# 6.Write a Python program to convert a list to a tuple.\n",
    "\n",
    "# 7.Write a Python program to remove an item from a tuple.\n",
    "\n",
    "# 8.Write a Python program to find the index of an \n",
    "# item of a tuple.\n",
    "\n",
    "# 9.Write a Python program to reverse a tuple.\n",
    "\n",
    "# 10.Write a Python program calculate the product, \n",
    "# multiplying all the numbers of a given tuple. \n",
    "# Original Tuple:\n",
    "# (4, 3, 2, 2, -1, 18)\n",
    "\n",
    "# 11.Python – Adding Tuple to List and vice – versa.\n",
    "\n",
    "# 12.Python program to find tuples which have \n",
    "# all elements divisible by K from a list of tuples.\n",
    "\n",
    "# 13.Python – Removing duplicates from tuple.\n"
   ]
  },
  {
   "cell_type": "code",
   "execution_count": 2,
   "id": "89b59ff1",
   "metadata": {},
   "outputs": [
    {
     "name": "stdout",
     "output_type": "stream",
     "text": [
      "(23, 54, 67, 89, 29, 90)\n"
     ]
    },
    {
     "data": {
      "text/plain": [
       "tuple"
      ]
     },
     "execution_count": 2,
     "metadata": {},
     "output_type": "execute_result"
    }
   ],
   "source": [
    "# 1.Write a Python program to create a tuple.\n",
    "\n",
    "a = 23,54,67,89,29,90\n",
    "print(a)\n",
    "type(a)"
   ]
  },
  {
   "cell_type": "code",
   "execution_count": 3,
   "id": "e68ccd3d",
   "metadata": {},
   "outputs": [
    {
     "name": "stdout",
     "output_type": "stream",
     "text": [
      "(34, 54, 89.56, 76.12, 'hello', 'ram', True, (3+2j))\n"
     ]
    },
    {
     "data": {
      "text/plain": [
       "tuple"
      ]
     },
     "execution_count": 3,
     "metadata": {},
     "output_type": "execute_result"
    }
   ],
   "source": [
    "# 2.Write a Python program to create a tuple with \n",
    "# different data types.\n",
    "\n",
    "x = (34,54,89.56,76.12,'hello','ram',True,3+2j)\n",
    "print(x)\n",
    "type(a)"
   ]
  },
  {
   "cell_type": "code",
   "execution_count": 9,
   "id": "8cb11ef5",
   "metadata": {},
   "outputs": [
    {
     "name": "stdout",
     "output_type": "stream",
     "text": [
      "23\n"
     ]
    },
    {
     "data": {
      "text/plain": [
       "tuple"
      ]
     },
     "execution_count": 9,
     "metadata": {},
     "output_type": "execute_result"
    }
   ],
   "source": [
    "# 3.Write a Python program to create a tuple with \n",
    "# numbers and print one item.\n",
    "\n",
    "x = (23,45,678,90,45,32,86)\n",
    "print(x[0])\n",
    "type(x)\n"
   ]
  },
  {
   "cell_type": "code",
   "execution_count": 11,
   "id": "622df688",
   "metadata": {},
   "outputs": [
    {
     "name": "stdout",
     "output_type": "stream",
     "text": [
      "(3, 5, 65, 4, 23, 43, 56, 4)\n"
     ]
    },
    {
     "data": {
      "text/plain": [
       "tuple"
      ]
     },
     "execution_count": 11,
     "metadata": {},
     "output_type": "execute_result"
    }
   ],
   "source": [
    "# 4.Write a Python program to add an item in a tuple.\n",
    "\n",
    "a = (3,5,65,4,23,43,56)\n",
    "b = (4,)\n",
    "c = a+b\n",
    "print(c)\n",
    "type(c)"
   ]
  },
  {
   "cell_type": "code",
   "execution_count": 41,
   "id": "8e422fee",
   "metadata": {},
   "outputs": [
    {
     "data": {
      "text/plain": [
       "'(34, 54, 68)'"
      ]
     },
     "execution_count": 41,
     "metadata": {},
     "output_type": "execute_result"
    }
   ],
   "source": [
    "# 5.Write a Python program to convert a tuple to a string.\n",
    "\n",
    "x = (34,54,68)\n",
    "type(x)\n",
    "a = str(x)\n",
    "a\n"
   ]
  },
  {
   "cell_type": "code",
   "execution_count": 30,
   "id": "d0e603fa",
   "metadata": {},
   "outputs": [
    {
     "name": "stdout",
     "output_type": "stream",
     "text": [
      "('m', 'a', 'h', 'e', 's', 'h', ' ', 'k', 'u', 'm', 'a', 'r')\n"
     ]
    },
    {
     "data": {
      "text/plain": [
       "tuple"
      ]
     },
     "execution_count": 30,
     "metadata": {},
     "output_type": "execute_result"
    }
   ],
   "source": [
    "# 6.Write a Python program to convert a list to a tuple.\n",
    "\n",
    "a = 'mahesh kumar'\n",
    "x = tuple(str(a))\n",
    "print(x)\n",
    "type(x)"
   ]
  },
  {
   "cell_type": "code",
   "execution_count": 49,
   "id": "1333175c",
   "metadata": {},
   "outputs": [
    {
     "data": {
      "text/plain": [
       "(23, 45, 89, 76, 'Hello', 23.4)"
      ]
     },
     "execution_count": 49,
     "metadata": {},
     "output_type": "execute_result"
    }
   ],
   "source": [
    "# 7.Write a Python program to remove an item from a tuple.\n",
    "\n",
    "x = (23,45,89,90,76,'Hello',23.4)\n",
    "a = x[:3]\n",
    "b = x[4:]\n",
    "z = a + b\n",
    "z\n"
   ]
  },
  {
   "cell_type": "code",
   "execution_count": 50,
   "id": "11c0a6a7",
   "metadata": {},
   "outputs": [
    {
     "data": {
      "text/plain": [
       "[23, 45, 89, 90, 76, 'Hello', 23.4]"
      ]
     },
     "execution_count": 50,
     "metadata": {},
     "output_type": "execute_result"
    }
   ],
   "source": [
    "x = (23,45,89,90,76,'Hello',23.4)\n",
    "y = list(x)\n",
    "y"
   ]
  },
  {
   "cell_type": "code",
   "execution_count": 51,
   "id": "3df3d707",
   "metadata": {},
   "outputs": [
    {
     "data": {
      "text/plain": [
       "23.4"
      ]
     },
     "execution_count": 51,
     "metadata": {},
     "output_type": "execute_result"
    }
   ],
   "source": []
  },
  {
   "cell_type": "code",
   "execution_count": 57,
   "id": "f2a56555",
   "metadata": {},
   "outputs": [
    {
     "data": {
      "text/plain": [
       "'Hello'"
      ]
     },
     "execution_count": 57,
     "metadata": {},
     "output_type": "execute_result"
    }
   ],
   "source": [
    "y.pop()"
   ]
  },
  {
   "cell_type": "code",
   "execution_count": 59,
   "id": "e08f6ce5",
   "metadata": {},
   "outputs": [
    {
     "ename": "IndexError",
     "evalue": "pop index out of range",
     "output_type": "error",
     "traceback": [
      "\u001b[1;31m---------------------------------------------------------------------------\u001b[0m",
      "\u001b[1;31mIndexError\u001b[0m                                Traceback (most recent call last)",
      "\u001b[1;32mC:\\Users\\VIKASH~1\\AppData\\Local\\Temp/ipykernel_4464/3625877038.py\u001b[0m in \u001b[0;36m<module>\u001b[1;34m\u001b[0m\n\u001b[1;32m----> 1\u001b[1;33m \u001b[0my\u001b[0m\u001b[1;33m.\u001b[0m\u001b[0mpop\u001b[0m\u001b[1;33m(\u001b[0m\u001b[1;36m45\u001b[0m\u001b[1;33m)\u001b[0m\u001b[1;33m\u001b[0m\u001b[1;33m\u001b[0m\u001b[0m\n\u001b[0m",
      "\u001b[1;31mIndexError\u001b[0m: pop index out of range"
     ]
    }
   ],
   "source": [
    "y.pop(45)"
   ]
  },
  {
   "cell_type": "code",
   "execution_count": null,
   "id": "f2b3027c",
   "metadata": {},
   "outputs": [],
   "source": [
    "# 8.Write a Python program to find the index of an \n",
    "# item of a tuple."
   ]
  },
  {
   "cell_type": "code",
   "execution_count": 63,
   "id": "529f8cd0",
   "metadata": {},
   "outputs": [
    {
     "data": {
      "text/plain": [
       "4"
      ]
     },
     "execution_count": 63,
     "metadata": {},
     "output_type": "execute_result"
    }
   ],
   "source": [
    "a = (34,5,4,23,45,12,14)\n",
    "\n",
    "a.index(45)"
   ]
  },
  {
   "cell_type": "code",
   "execution_count": 64,
   "id": "e593ade1",
   "metadata": {},
   "outputs": [
    {
     "data": {
      "text/plain": [
       "(True, 6.25, 'hina', 45, 25)"
      ]
     },
     "execution_count": 64,
     "metadata": {},
     "output_type": "execute_result"
    }
   ],
   "source": [
    "# 9.Write a Python program to reverse a tuple.\n",
    "\n",
    "f = 25,45,\"hina\",6.25,True\n",
    "f[-1:-6:-1]\n"
   ]
  },
  {
   "cell_type": "code",
   "execution_count": 65,
   "id": "4a5062bf",
   "metadata": {},
   "outputs": [
    {
     "data": {
      "text/plain": [
       "(True, 6.25, 'hina', 45, 25)"
      ]
     },
     "execution_count": 65,
     "metadata": {},
     "output_type": "execute_result"
    }
   ],
   "source": [
    "f[::-1]"
   ]
  },
  {
   "cell_type": "code",
   "execution_count": 66,
   "id": "47cf9f1f",
   "metadata": {},
   "outputs": [
    {
     "data": {
      "text/plain": [
       "-864"
      ]
     },
     "execution_count": 66,
     "metadata": {},
     "output_type": "execute_result"
    }
   ],
   "source": [
    "# 10.Write a Python program calculate the product, \n",
    "# multiplying all the numbers of a given tuple. \n",
    "# Original Tuple:\n",
    "# (4, 3, 2, 2, -1, 18)\n",
    "\n",
    "x = (4,3,2,2,-1,18)\n",
    "mul = 1\n",
    "for i in x:\n",
    "    mul = mul*i\n",
    "mul    \n",
    "    "
   ]
  },
  {
   "cell_type": "code",
   "execution_count": 81,
   "id": "e73244e9",
   "metadata": {},
   "outputs": [
    {
     "data": {
      "text/plain": [
       "(2, 34, 56, 'ram', 5, 67, 'mohan')"
      ]
     },
     "execution_count": 81,
     "metadata": {},
     "output_type": "execute_result"
    }
   ],
   "source": [
    "# 11.Python – Adding Tuple to List and vice – versa.\n",
    "\n"
   ]
  },
  {
   "cell_type": "code",
   "execution_count": 86,
   "id": "76a3ac11",
   "metadata": {},
   "outputs": [
    {
     "name": "stdout",
     "output_type": "stream",
     "text": [
      "34 not divisible by 4\n",
      "5 not divisible by 4\n",
      "67 not divisible by 4\n",
      "3 not divisible by 4\n",
      "89 not divisible by 4\n",
      "23 not divisible by 4\n",
      "50 not divisible by 4\n"
     ]
    }
   ],
   "source": [
    "# 12.Python program to find tuples which have \n",
    "# all elements divisible by K from a list of tuples.\n",
    "# 12...>\n",
    "x = [(34,5,67,3,89,23,50)]\n",
    "k = 4\n",
    "for i in x:\n",
    "    if (i%k == 0):\n",
    "        print(i ,\"divisible by \" , k)\n",
    "    else:\n",
    "        print(i ,\"not divisible by\" , k)"
   ]
  },
  {
   "cell_type": "code",
   "execution_count": 88,
   "id": "18ee110c",
   "metadata": {},
   "outputs": [
    {
     "data": {
      "text/plain": [
       "{45, 67, 90, 923}"
      ]
     },
     "execution_count": 88,
     "metadata": {},
     "output_type": "execute_result"
    }
   ],
   "source": [
    "x = (923,45,67,45,90,45,90,45)\n",
    "a = set(x)\n",
    "a\n",
    "    "
   ]
  },
  {
   "cell_type": "code",
   "execution_count": 89,
   "id": "25e1cb89",
   "metadata": {},
   "outputs": [
    {
     "data": {
      "text/plain": [
       "['anup', 'meena', 3.2, (5, 25, 84, 'hemant')]"
      ]
     },
     "execution_count": 89,
     "metadata": {},
     "output_type": "execute_result"
    }
   ],
   "source": [
    "# add tuple in list\n",
    "k = [\"anup\",\"meena\",3.2]\n",
    "k += (5,25,84,\"hemant\"),\n",
    "k\n"
   ]
  },
  {
   "cell_type": "code",
   "execution_count": null,
   "id": "6f844cad",
   "metadata": {},
   "outputs": [],
   "source": []
  },
  {
   "cell_type": "code",
   "execution_count": null,
   "id": "2431feda",
   "metadata": {},
   "outputs": [],
   "source": []
  },
  {
   "cell_type": "code",
   "execution_count": null,
   "id": "c59f14f6",
   "metadata": {},
   "outputs": [],
   "source": []
  },
  {
   "cell_type": "code",
   "execution_count": null,
   "id": "8bcf51bf",
   "metadata": {},
   "outputs": [],
   "source": []
  }
 ],
 "metadata": {
  "kernelspec": {
   "display_name": "Python 3 (ipykernel)",
   "language": "python",
   "name": "python3"
  },
  "language_info": {
   "codemirror_mode": {
    "name": "ipython",
    "version": 3
   },
   "file_extension": ".py",
   "mimetype": "text/x-python",
   "name": "python",
   "nbconvert_exporter": "python",
   "pygments_lexer": "ipython3",
   "version": "3.9.7"
  }
 },
 "nbformat": 4,
 "nbformat_minor": 5
}
